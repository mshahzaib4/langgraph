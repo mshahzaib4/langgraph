{
 "cells": [
  {
   "cell_type": "code",
   "execution_count": null,
   "id": "47daabc4",
   "metadata": {},
   "outputs": [
    {
     "data": {
      "text/plain": [
       "True"
      ]
     },
     "execution_count": 6,
     "metadata": {},
     "output_type": "execute_result"
    }
   ],
   "source": [
    "from langgraph.graph import StateGraph, START, END\n",
    "from typing import TypedDict\n",
    "from langchain_openai import ChatOpenAI\n",
    "from dotenv import load_dotenv\n",
    "from langgraph.checkpoint.memory import InMemorySaver\n",
    "load_dotenv()\n"
   ]
  },
  {
   "cell_type": "code",
   "execution_count": 7,
   "id": "bb23e2d4",
   "metadata": {},
   "outputs": [],
   "source": [
    "model = ChatOpenAI()"
   ]
  },
  {
   "cell_type": "code",
   "execution_count": 8,
   "id": "00d58c4f",
   "metadata": {},
   "outputs": [],
   "source": [
    "class Jokestate(TypedDict):\n",
    "    topic: str\n",
    "    joke: str\n",
    "    explantion: str\n",
    "    "
   ]
  },
  {
   "cell_type": "code",
   "execution_count": 9,
   "id": "df529534",
   "metadata": {},
   "outputs": [],
   "source": [
    "def genrate_joke(state: Jokestate):\n",
    "    prompt = f'generate a joke on the topic {state[\"topic\"]}'\n",
    "    response = model.invoke(prompt).content\n",
    "    return {'joke': response}\n",
    "\n",
    "def genrate_joke_explaination(state: Jokestate):\n",
    "    prompt = f\"Write an explanation for the joke - {state[\"joke\"]} \"\n",
    "    response = model.invoke(prompt)\n",
    "    return {'explantion': response}\n"
   ]
  },
  {
   "cell_type": "code",
   "execution_count": 10,
   "id": "9ce1f2d3",
   "metadata": {},
   "outputs": [],
   "source": [
    "graph = StateGraph(Jokestate)\n",
    "graph.add_node('genrate_joke', genrate_joke)\n",
    "graph.add_node('genrate_joke_explaination', genrate_joke_explaination)\n",
    "\n",
    "graph.add_edge(START, 'genrate_joke')\n",
    "graph.add_edge('genrate_joke','genrate_joke_explaination')\n",
    "graph.add_edge('genrate_joke_explaination', END)\n",
    "\n",
    "checkpointer = InMemorySaver()\n",
    "\n",
    "workflow = graph.compile(checkpointer=checkpointer)\n",
    "\n"
   ]
  },
  {
   "cell_type": "code",
   "execution_count": 11,
   "id": "a7345129",
   "metadata": {},
   "outputs": [
    {
     "data": {
      "image/png": "[encoded data removed]",
      "text/plain": [
       "<langgraph.graph.state.CompiledStateGraph object at 0x0000029FE8D94980>"
      ]
     },
     "execution_count": 11,
     "metadata": {},
     "output_type": "execute_result"
    }
   ],
   "source": [
    "workflow"
   ]
  },
  {
   "cell_type": "code",
   "execution_count": 12,
   "id": "3b061a8c",
   "metadata": {},
   "outputs": [
    {
     "data": {
      "text/plain": [
       "{'topic': 'pizza',\n",
       " 'joke': 'Why did the pizza go to the party? Because it wanted to get a slice of the action!',\n",
       " 'explantion': AIMessage(content='This joke plays on the double meaning of the phrase \"slice of the action.\" In one sense, it refers to a piece of the fun and excitement at the party. In another sense, it literally means a slice of pizza, which is a popular party food. So, the joke suggests that the pizza went to the party because it wanted to have some fun and excitement, but also because it wanted to be eaten and enjoyed by the party-goers.', additional_kwargs={'refusal': None}, response_metadata={'token_usage': {'completion_tokens': 91, 'prompt_tokens': 35, 'total_tokens': 126, 'completion_tokens_details': {'accepted_prediction_tokens': 0, 'audio_tokens': 0, 'reasoning_tokens': 0, 'rejected_prediction_tokens': 0}, 'prompt_tokens_details': {'audio_tokens': 0, 'cached_tokens': 0}}, 'model_name': 'gpt-3.5-turbo-0125', 'system_fingerprint': None, 'id': 'chatcmpl-C6uey5hcqrdLS42OYiLFJDhBIjiK5', 'service_tier': 'default', 'finish_reason': 'stop', 'logprobs': None}, id='run--5a12c928-d5ca-40b7-bbda-408c490a1489-0', usage_metadata={'input_tokens': 35, 'output_tokens': 91, 'total_tokens': 126, 'input_token_details': {'audio': 0, 'cache_read': 0}, 'output_token_details': {'audio': 0, 'reasoning': 0}})}"
      ]
     },
     "execution_count": 12,
     "metadata": {},
     "output_type": "execute_result"
    }
   ],
   "source": [
    "CONFIG = {'configurable': {\"thread_id\": \"1\"}}\n",
    "workflow.invoke({'topic': 'pizza'}, config=CONFIG)"
   ]
  },
  {
   "cell_type": "code",
   "execution_count": 13,
   "id": "d4184d24",
   "metadata": {},
   "outputs": [
    {
     "data": {
      "text/plain": [
       "StateSnapshot(values={'topic': 'pizza', 'joke': 'Why did the pizza go to the party? Because it wanted to get a slice of the action!', 'explantion': AIMessage(content='This joke plays on the double meaning of the phrase \"slice of the action.\" In one sense, it refers to a piece of the fun and excitement at the party. In another sense, it literally means a slice of pizza, which is a popular party food. So, the joke suggests that the pizza went to the party because it wanted to have some fun and excitement, but also because it wanted to be eaten and enjoyed by the party-goers.', additional_kwargs={'refusal': None}, response_metadata={'token_usage': {'completion_tokens': 91, 'prompt_tokens': 35, 'total_tokens': 126, 'completion_tokens_details': {'accepted_prediction_tokens': 0, 'audio_tokens': 0, 'reasoning_tokens': 0, 'rejected_prediction_tokens': 0}, 'prompt_tokens_details': {'audio_tokens': 0, 'cached_tokens': 0}}, 'model_name': 'gpt-3.5-turbo-0125', 'system_fingerprint': None, 'id': 'chatcmpl-C6uey5hcqrdLS42OYiLFJDhBIjiK5', 'service_tier': 'default', 'finish_reason': 'stop', 'logprobs': None}, id='run--5a12c928-d5ca-40b7-bbda-408c490a1489-0', usage_metadata={'input_tokens': 35, 'output_tokens': 91, 'total_tokens': 126, 'input_token_details': {'audio': 0, 'cache_read': 0}, 'output_token_details': {'audio': 0, 'reasoning': 0}})}, next=(), config={'configurable': {'thread_id': '1', 'checkpoint_ns': '', 'checkpoint_id': '1f07e663-e13e-67ec-8002-8ff8b0f7f9de'}}, metadata={'source': 'loop', 'step': 2, 'parents': {}}, created_at='2025-08-21T08:10:04.174069+00:00', parent_config={'configurable': {'thread_id': '1', 'checkpoint_ns': '', 'checkpoint_id': '1f07e663-d2d0-682d-8001-7559c89f30c3'}}, tasks=(), interrupts=())"
      ]
     },
     "execution_count": 13,
     "metadata": {},
     "output_type": "execute_result"
    }
   ],
   "source": [
    "workflow.get_state(CONFIG)"
   ]
  }
 ],
 "metadata": {
  "kernelspec": {
   "display_name": "genai",
   "language": "python",
   "name": "python3"
  },
  "language_info": {
   "codemirror_mode": {
    "name": "ipython",
    "version": 3
   },
   "file_extension": ".py",
   "mimetype": "text/x-python",
   "name": "python",
   "nbconvert_exporter": "python",
   "pygments_lexer": "ipython3",
   "version": "3.13.5"
  }
 },
 "nbformat": 4,
 "nbformat_minor": 5
}
