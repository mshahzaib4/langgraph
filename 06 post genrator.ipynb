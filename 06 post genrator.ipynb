{
 "cells": [
  {
   "cell_type": "code",
   "execution_count": 12,
   "id": "a07a8468",
   "metadata": {},
   "outputs": [],
   "source": [
    "from langgraph.graph import StateGraph, START, END\n",
    "from typing import TypedDict, Literal, Annotated\n",
    "from langchain_openai import ChatOpenAI\n",
    "from langchain_core.messages import SystemMessage, HumanMessage\n",
    "from pydantic import BaseModel, Field\n",
    "import operator\n"
   ]
  },
  {
   "cell_type": "code",
   "execution_count": 13,
   "id": "dbf78dad",
   "metadata": {},
   "outputs": [],
   "source": [
    "generator_llm = ChatOpenAI(model = 'gpt-4o')\n",
    "evaluator_llm = ChatOpenAI(model = 'gpt-4o-mini')\n",
    "optimizer_llm = ChatOpenAI(model = 'gpt-40')"
   ]
  },
  {
   "cell_type": "code",
   "execution_count": 14,
   "id": "250686e6",
   "metadata": {},
   "outputs": [],
   "source": [
    "class TweetEvaluation(BaseModel):\n",
    "    evaluation: Literal[\"approved\", \"needs_improvement\"] = Field(..., description=\"Final evaluation result.\")\n",
    "    feedback: str = Field(..., description=\"feedback for the tweet.\")\n",
    "\n",
    "structured_evaluator_llm = evaluator_llm.with_structured_output(TweetEvaluation)"
   ]
  },
  {
   "cell_type": "code",
   "execution_count": 15,
   "id": "e78d368f",
   "metadata": {},
   "outputs": [],
   "source": [
    "# state \n",
    "class Tweetstate(TypedDict):\n",
    "    topic: str\n",
    "    tweet: str\n",
    "    evaluation: Literal[\"approved\", \"needs_improvement\"]\n",
    "    feedback: str\n",
    "    iteration: int \n",
    "    max_iteration: int\n",
    "    tweet_history: Annotated[list[str], operator.add]\n",
    "    feedback_history: Annotated[list[str], operator.add]"
   ]
  },
  {
   "cell_type": "code",
   "execution_count": 16,
   "id": "c7292543",
   "metadata": {},
   "outputs": [],
   "source": [
    "def generate_tweet(state: Tweetstate):\n",
    "    messages = [\n",
    "        SystemMessage(content=\"You are a funny and clever Twitter/X influencer.\"),\n",
    "        HumanMessage(content=f\"\"\"\n",
    "Write a short, original, and hilarious tweet on the topic: \"{state['topic']}\".\n",
    "\n",
    "Rules:\n",
    "- Do NOT use question-answer format.\n",
    "- Max 280 characters.\n",
    "- Use observational humor, irony, sarcasm, or cultural references.\n",
    "- Think in meme logic, punchlines, or relatable takes.\n",
    "- Use simple, day to day english\n",
    "\"\"\")\n",
    "    ]\n",
    "\n",
    "    tweet = generator_llm.invoke(messages)\n",
    "    return {\"tweet\": tweet}"
   ]
  },
  {
   "cell_type": "code",
   "execution_count": 17,
   "id": "ade68ac3",
   "metadata": {},
   "outputs": [],
   "source": [
    "def evaluate_tweet(state:Tweetstate):\n",
    "    messages = [\n",
    "    SystemMessage(content=\"You are a ruthless, no-laugh-given Twitter critic. You evaluate tweets based on humor, originality, virality, and tweet format.\"),\n",
    "    HumanMessage(content=f\"\"\"\n",
    "    Evaluate the following tweet:\n",
    "\n",
    "    Tweet: \"{state['tweet']}\"\n",
    "\n",
    "    Use the criteria below to evaluate the tweet:\n",
    "\n",
    "    1. Originality – Is this fresh, or have you seen it a hundred times before?  \n",
    "    2. Humor – Did it genuinely make you smile, laugh, or chuckle?  \n",
    "    3. Punchiness – Is it short, sharp, and scroll-stopping?  \n",
    "    4. Virality Potential – Would people retweet or share it?  \n",
    "    5. Format – Is it a well-formed tweet (not a setup-punchline joke, not a Q&A joke, and under 280 characters)?\n",
    "\n",
    "    Auto-reject if:\n",
    "    - It's written in question-answer format (e.g., \"Why did...\" or \"What happens when...\")\n",
    "    - It exceeds 280 characters\n",
    "    - It reads like a traditional setup-punchline joke\n",
    "    - Dont end with generic, throwaway, or deflating lines that weaken the humor (e.g., “Masterpieces of the auntie-uncle universe” or vague summaries)\n",
    "\n",
    "    ### Respond ONLY in structured format:\n",
    "    - evaluation: \"approved\" or \"needs_improvement\"  \n",
    "    - feedback: One paragraph explaining the strengths and weaknesses \n",
    "    \"\"\")\n",
    "]\n",
    "\n",
    "    response = structured_evaluator_llm.invoke(messages)\n",
    "    return {'evaluation':response.evaluation, 'feedback': response.feedback, 'feedback_history': [response.feedback]}\n",
    "\n"
   ]
  },
  {
   "cell_type": "code",
   "execution_count": 18,
   "id": "096f32ef",
   "metadata": {},
   "outputs": [],
   "source": [
    "def optimize_tweet(state: Tweetstate):\n",
    "\n",
    "    messages = [\n",
    "        SystemMessage(content=\"You punch up tweets for virality and humor based on given feedback.\"),\n",
    "        HumanMessage(content=f\"\"\"\n",
    "Improve the tweet based on this feedback:\n",
    "\"{state['feedback']}\"\n",
    "\n",
    "Topic: \"{state['topic']}\"\n",
    "Original Tweet:\n",
    "{state['tweet']}\n",
    "\n",
    "Re-write it as a short, viral-worthy tweet. Avoid Q&A style and stay under 280 characters.\n",
    "\"\"\")\n",
    "    ]\n",
    "\n",
    "    response = optimizer_llm.invoke(messages).content\n",
    "    iteration = state['iteration'] + 1\n",
    "\n",
    "    return {'tweet': response, 'iteration': iteration, 'tweet_history': [response]}"
   ]
  },
  {
   "cell_type": "code",
   "execution_count": 20,
   "id": "8ee53708",
   "metadata": {},
   "outputs": [],
   "source": [
    "def route_evaluation(state: Tweetstate):\n",
    "    if state['evaluation'] == 'approved' or state[\"iteration\"] >= state[\"max_iteration\"]:\n",
    "        return \"approved\"\n",
    "    else:\n",
    "        return \"needs_improvement\""
   ]
  },
  {
   "cell_type": "code",
   "execution_count": 27,
   "id": "7bd4ff5e",
   "metadata": {},
   "outputs": [],
   "source": [
    "graph = StateGraph(Tweetstate)\n",
    "\n",
    "graph.add_node(\"generate\", generate_tweet)\n",
    "graph.add_node(\"evaluate_tweet\", evaluate_tweet)\n",
    "graph.add_node(\"optimize_tweet\", optimize_tweet)\n",
    "\n",
    "graph.add_edge(START, 'generate')\n",
    "graph.add_edge('generate', 'evaluate_tweet')\n",
    "graph.add_conditional_edges('evaluate_tweet', route_evaluation, {'approved': END, 'needs_improvement': 'optimize_tweet'})\n",
    "graph.add_edge('optimize_tweet', 'evaluate_tweet')\n",
    "\n",
    "workflow = graph.compile()"
   ]
  },
  {
   "cell_type": "code",
   "execution_count": 28,
   "id": "68203746",
   "metadata": {},
   "outputs": [
    {
     "data": {
      "image/png": "[encoded data removed]",
      "text/plain": [
       "<langgraph.graph.state.CompiledStateGraph object at 0x00000298442E7750>"
      ]
     },
     "execution_count": 28,
     "metadata": {},
     "output_type": "execute_result"
    }
   ],
   "source": [
    "workflow"
   ]
  },
  {
   "cell_type": "code",
   "execution_count": 29,
   "id": "7a4d97dc",
   "metadata": {},
   "outputs": [],
   "source": [
    "initial_state = {\n",
    "    \"topic\": \"America\",\n",
    "    \"iteration\": 1,\n",
    "    \"max_iteration\": 5\n",
    "}\n",
    "result = workflow.invoke(initial_state)"
   ]
  },
  {
   "cell_type": "code",
   "execution_count": 30,
   "id": "e4725116",
   "metadata": {},
   "outputs": [
    {
     "data": {
      "text/plain": [
       "{'topic': 'America',\n",
       " 'tweet': AIMessage(content='America: the only place where you can buy a 100-pack of toilet paper, but your healthcare plan is strictly \"fingers crossed.\" 🇺🇸', additional_kwargs={'refusal': None}, response_metadata={'token_usage': {'completion_tokens': 32, 'prompt_tokens': 90, 'total_tokens': 122, 'completion_tokens_details': {'accepted_prediction_tokens': 0, 'audio_tokens': 0, 'reasoning_tokens': 0, 'rejected_prediction_tokens': 0}, 'prompt_tokens_details': {'audio_tokens': 0, 'cached_tokens': 0}}, 'model_name': 'gpt-4o-2024-08-06', 'system_fingerprint': 'fp_46bff0e0c8', 'id': 'chatcmpl-C6CiTG8deGt27RUidkbjCPkrZ986p', 'service_tier': 'default', 'finish_reason': 'stop', 'logprobs': None}, id='run--da7a182e-fec8-4006-a825-24477b318575-0', usage_metadata={'input_tokens': 90, 'output_tokens': 32, 'total_tokens': 122, 'input_token_details': {'audio': 0, 'cache_read': 0}, 'output_token_details': {'audio': 0, 'reasoning': 0}}),\n",
       " 'evaluation': 'approved',\n",
       " 'feedback': \"This tweet showcases originality by blending the absurdity of American consumerism with the serious subject of healthcare, a refreshing take that hasn't been overused. The humor is sharp, highlighting the irony in a way that provokes thought while also being relatable. It’s succinct and punchy, ideal for social media—as it draws attention to the humorous contrast without losing momentum. The potential for virality is high, as many users can resonate with the sentiment and likely share it. Overall, it adheres well to Twitter's format and constraints, making it a strong contender in the humor category.\",\n",
       " 'iteration': 1,\n",
       " 'max_iteration': 5,\n",
       " 'tweet_history': [],\n",
       " 'feedback_history': [\"This tweet showcases originality by blending the absurdity of American consumerism with the serious subject of healthcare, a refreshing take that hasn't been overused. The humor is sharp, highlighting the irony in a way that provokes thought while also being relatable. It’s succinct and punchy, ideal for social media—as it draws attention to the humorous contrast without losing momentum. The potential for virality is high, as many users can resonate with the sentiment and likely share it. Overall, it adheres well to Twitter's format and constraints, making it a strong contender in the humor category.\"]}"
      ]
     },
     "execution_count": 30,
     "metadata": {},
     "output_type": "execute_result"
    }
   ],
   "source": [
    "result"
   ]
  }
 ],
 "metadata": {
  "kernelspec": {
   "display_name": "genai",
   "language": "python",
   "name": "python3"
  },
  "language_info": {
   "codemirror_mode": {
    "name": "ipython",
    "version": 3
   },
   "file_extension": ".py",
   "mimetype": "text/x-python",
   "name": "python",
   "nbconvert_exporter": "python",
   "pygments_lexer": "ipython3",
   "version": "3.13.5"
  }
 },
 "nbformat": 4,
 "nbformat_minor": 5
}
