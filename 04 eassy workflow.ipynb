{
 "cells": [
  {
   "cell_type": "code",
   "execution_count": 102,
   "id": "ec1006df",
   "metadata": {},
   "outputs": [
    {
     "data": {
      "text/plain": [
       "True"
      ]
     },
     "execution_count": 102,
     "metadata": {},
     "output_type": "execute_result"
    }
   ],
   "source": [
    "from langgraph.graph import StateGraph, START, END\n",
    "from langchain_openai import ChatOpenAI\n",
    "from typing import TypedDict, Annotated\n",
    "from pydantic import BaseModel, Field\n",
    "from dotenv import load_dotenv\n",
    "import operator\n",
    "load_dotenv()"
   ]
  },
  {
   "cell_type": "code",
   "execution_count": 103,
   "id": "0917d0f7",
   "metadata": {},
   "outputs": [],
   "source": [
    "model = ChatOpenAI()"
   ]
  },
  {
   "cell_type": "code",
   "execution_count": 104,
   "id": "874442c7",
   "metadata": {},
   "outputs": [],
   "source": [
    "class EvaluationShema(BaseModel):\n",
    "    feedback : str = Field(description = 'detailed feedback for the eassay')\n",
    "    score : int = Field(description=\"Score out of 10\", ge=0, le = 10)\n",
    "    "
   ]
  },
  {
   "cell_type": "code",
   "execution_count": 105,
   "id": "ed5912ec",
   "metadata": {},
   "outputs": [],
   "source": [
    "structure_model = model.with_structured_output(EvaluationShema)\n"
   ]
  },
  {
   "cell_type": "code",
   "execution_count": 106,
   "id": "6632aeed",
   "metadata": {},
   "outputs": [],
   "source": [
    "essay = \"\"\"India in the Age of AI\n",
    "As the world enters a transformative era defined by artificial intelligence (AI), India stands at a critical juncture — one where it can either emerge as a global leader in AI innovation or risk falling behind in the technology race. The age of AI brings with it immense promise as well as unprecedented challenges, and how India navigates this landscape will shape its socio-economic and geopolitical future.\n",
    "\n",
    "India's strengths in the AI domain are rooted in its vast pool of skilled engineers, a thriving IT industry, and a growing startup ecosystem. With over 5 million STEM graduates annually and a burgeoning base of AI researchers, India possesses the intellectual capital required to build cutting-edge AI systems. Institutions like IITs, IIITs, and IISc have begun fostering AI research, while private players such as TCS, Infosys, and Wipro are integrating AI into their global services. In 2020, the government launched the National AI Strategy (AI for All) with a focus on inclusive growth, aiming to leverage AI in healthcare, agriculture, education, and smart mobility.\n",
    "\n",
    "One of the most promising applications of AI in India lies in agriculture, where predictive analytics can guide farmers on optimal sowing times, weather forecasts, and pest control. In healthcare, AI-powered diagnostics can help address India’s doctor-patient ratio crisis, particularly in rural areas. Educational platforms are increasingly using AI to personalize learning paths, while smart governance tools are helping improve public service delivery and fraud detection.\n",
    "\n",
    "However, the path to AI-led growth is riddled with challenges. Chief among them is the digital divide. While metropolitan cities may embrace AI-driven solutions, rural India continues to struggle with basic internet access and digital literacy. The risk of job displacement due to automation also looms large, especially for low-skilled workers. Without effective skilling and re-skilling programs, AI could exacerbate existing socio-economic inequalities.\n",
    "\n",
    "Another pressing concern is data privacy and ethics. As AI systems rely heavily on vast datasets, ensuring that personal data is used transparently and responsibly becomes vital. India is still shaping its data protection laws, and in the absence of a strong regulatory framework, AI systems may risk misuse or bias.\n",
    "\n",
    "To harness AI responsibly, India must adopt a multi-stakeholder approach involving the government, academia, industry, and civil society. Policies should promote open datasets, encourage responsible innovation, and ensure ethical AI practices. There is also a need for international collaboration, particularly with countries leading in AI research, to gain strategic advantage and ensure interoperability in global systems.\n",
    "\n",
    "India’s demographic dividend, when paired with responsible AI adoption, can unlock massive economic growth, improve governance, and uplift marginalized communities. But this vision will only materialize if AI is seen not merely as a tool for automation, but as an enabler of human-centered development.\n",
    "\n",
    "In conclusion, India in the age of AI is a story in the making — one of opportunity, responsibility, and transformation. The decisions we make today will not just determine India’s AI trajectory, but also its future as an inclusive, equitable, and innovation-driven society.\"\"\""
   ]
  },
  {
   "cell_type": "code",
   "execution_count": 107,
   "id": "9fbb03e0",
   "metadata": {},
   "outputs": [
    {
     "data": {
      "text/plain": [
       "\"prompt = f'Evaluate the language quality of the following essay and provide a feedback and assign a score out of 10 \\n {essay}'\\nstructure_model.invoke(prompt).feedback\""
      ]
     },
     "execution_count": 107,
     "metadata": {},
     "output_type": "execute_result"
    }
   ],
   "source": [
    "\"\"\"prompt = f'Evaluate the language quality of the following essay and provide a feedback and assign a score out of 10 \\n {essay}'\n",
    "structure_model.invoke(prompt).feedback\"\"\""
   ]
  },
  {
   "cell_type": "code",
   "execution_count": 108,
   "id": "1650f4fa",
   "metadata": {},
   "outputs": [],
   "source": [
    "class essay_state(TypedDict):\n",
    "    essay: str\n",
    "    language_feedback: str\n",
    "    analysis_feedback: str\n",
    "    clarity_feedback: str\n",
    "    overall_feedback: str\n",
    "    score: Annotated[list[int], operator.add]\n",
    "    avg_score = float\n",
    "\n",
    "def evaluate_language(state: essay_state):\n",
    "    prompt = f'Evaluate the depth of analysis the following essay and provide a feedback and assign a score out of 10 \\n {state[\"essay\"]}'\n",
    "    output = structure_model.invoke(prompt)\n",
    "    return {'language_feedback': output.feedback, 'score': [output.score]}\n",
    "\n",
    "def evaluate_analysis(state: essay_state):\n",
    "    prompt = f'Evaluate the depth of analysis the following essay and provide a feedback and assign a score out of 10 \\n {state[\"essay\"]}'\n",
    "    output = structure_model.invoke(prompt)\n",
    "    return {'analysis_feedback': output.feedback, 'score': [output.score]}\n",
    "\n",
    "def evaluate_thoght(state: essay_state):\n",
    "    prompt = f'Evaluate the clarity of thought the following essay and provide a feedback and assign a score out of 10 \\n {state[\"essay\"]}'\n",
    "    output = structure_model.invoke(prompt)\n",
    "    return {'clarity_feedback': output.feedback, 'score': [output.score]}\n",
    "\n",
    "def evaluate_final(state: essay_state):\n",
    "    prompt = f'Based on the following feedbacks create a summarized feedback \\n language feedback - {state[\"language_feedback\"]} \\n depth of analysis feedback - {state[\"analysis_feedback\"]} \\n clarity of thought feedback - {state[\"clarity_feedback\"]}'\n",
    "    overall_feedback = model.invoke(prompt).content\n",
    "    avg_score = sum(state['score'])/len(state['score'])\n",
    "    return {'overall_feedback': overall_feedback, 'avg_score': avg_score}   "
   ]
  },
  {
   "cell_type": "code",
   "execution_count": 109,
   "id": "41698f41",
   "metadata": {},
   "outputs": [],
   "source": [
    "graph = StateGraph(essay_state)\n",
    "\n",
    "graph.add_node(\"evaluate_language\", evaluate_language )\n",
    "graph.add_node(\"evaluate_analysis\", evaluate_analysis )\n",
    "graph.add_node(\"evaluate_thoght\", evaluate_thoght ) \n",
    "graph.add_node(\"evaluate_final\", evaluate_final ) \n",
    "\n",
    "graph.add_edge(START, 'evaluate_language')\n",
    "graph.add_edge(START, 'evaluate_analysis')\n",
    "graph.add_edge(START, 'evaluate_thoght')\n",
    "\n",
    "graph.add_edge('evaluate_language', 'evaluate_final')\n",
    "graph.add_edge('evaluate_analysis', 'evaluate_final')\n",
    "graph.add_edge('evaluate_thoght', 'evaluate_final')\n",
    "\n",
    "graph.add_edge('evaluate_final', END)\n",
    "\n",
    "workflow = graph.compile()"
   ]
  },
  {
   "cell_type": "code",
   "execution_count": 110,
   "id": "f17107df",
   "metadata": {},
   "outputs": [
    {
     "data": {
      "image/png": "[encoded data removed]",
      "text/plain": [
       "<langgraph.graph.state.CompiledStateGraph object at 0x00000194C315A030>"
      ]
     },
     "execution_count": 110,
     "metadata": {},
     "output_type": "execute_result"
    }
   ],
   "source": [
    "workflow"
   ]
  },
  {
   "cell_type": "code",
   "execution_count": 112,
   "id": "b79b376a",
   "metadata": {},
   "outputs": [],
   "source": [
    "intial_state = {\n",
    "    'essay': essay\n",
    "}\n",
    "\n",
    "data = workflow.invoke(intial_state)"
   ]
  },
  {
   "cell_type": "code",
   "execution_count": 114,
   "id": "222eedc7",
   "metadata": {},
   "outputs": [
    {
     "data": {
      "text/plain": [
       "{'essay': \"India in the Age of AI\\nAs the world enters a transformative era defined by artificial intelligence (AI), India stands at a critical juncture — one where it can either emerge as a global leader in AI innovation or risk falling behind in the technology race. The age of AI brings with it immense promise as well as unprecedented challenges, and how India navigates this landscape will shape its socio-economic and geopolitical future.\\n\\nIndia's strengths in the AI domain are rooted in its vast pool of skilled engineers, a thriving IT industry, and a growing startup ecosystem. With over 5 million STEM graduates annually and a burgeoning base of AI researchers, India possesses the intellectual capital required to build cutting-edge AI systems. Institutions like IITs, IIITs, and IISc have begun fostering AI research, while private players such as TCS, Infosys, and Wipro are integrating AI into their global services. In 2020, the government launched the National AI Strategy (AI for All) with a focus on inclusive growth, aiming to leverage AI in healthcare, agriculture, education, and smart mobility.\\n\\nOne of the most promising applications of AI in India lies in agriculture, where predictive analytics can guide farmers on optimal sowing times, weather forecasts, and pest control. In healthcare, AI-powered diagnostics can help address India’s doctor-patient ratio crisis, particularly in rural areas. Educational platforms are increasingly using AI to personalize learning paths, while smart governance tools are helping improve public service delivery and fraud detection.\\n\\nHowever, the path to AI-led growth is riddled with challenges. Chief among them is the digital divide. While metropolitan cities may embrace AI-driven solutions, rural India continues to struggle with basic internet access and digital literacy. The risk of job displacement due to automation also looms large, especially for low-skilled workers. Without effective skilling and re-skilling programs, AI could exacerbate existing socio-economic inequalities.\\n\\nAnother pressing concern is data privacy and ethics. As AI systems rely heavily on vast datasets, ensuring that personal data is used transparently and responsibly becomes vital. India is still shaping its data protection laws, and in the absence of a strong regulatory framework, AI systems may risk misuse or bias.\\n\\nTo harness AI responsibly, India must adopt a multi-stakeholder approach involving the government, academia, industry, and civil society. Policies should promote open datasets, encourage responsible innovation, and ensure ethical AI practices. There is also a need for international collaboration, particularly with countries leading in AI research, to gain strategic advantage and ensure interoperability in global systems.\\n\\nIndia’s demographic dividend, when paired with responsible AI adoption, can unlock massive economic growth, improve governance, and uplift marginalized communities. But this vision will only materialize if AI is seen not merely as a tool for automation, but as an enabler of human-centered development.\\n\\nIn conclusion, India in the age of AI is a story in the making — one of opportunity, responsibility, and transformation. The decisions we make today will not just determine India’s AI trajectory, but also its future as an inclusive, equitable, and innovation-driven society.\",\n",
       " 'language_feedback': \"The essay provides a comprehensive analysis of India's current position in the age of AI, highlighting both the opportunities and challenges it faces. It discusses the strengths of India in the AI domain, applications in agriculture, healthcare, education, and governance, as well as the challenges of the digital divide, job displacement, and data privacy. The essay emphasizes the importance of a multi-stakeholder approach and responsible AI adoption for India's socio-economic advancement. Overall, the analysis is well-rounded and insightful, offering a balanced perspective on the topic.\",\n",
       " 'analysis_feedback': \"The essay provides a comprehensive analysis of India's position in the Age of AI, highlighting both the opportunities and challenges faced by the country. The discussion covers various sectors where AI can be beneficial, such as agriculture, healthcare, education, and governance. Additionally, it addresses critical issues like the digital divide, job displacement, data privacy, and the importance of a multi-stakeholder approach. The essay is well-structured and presents a balanced view of the topic, showcasing a deep understanding of the subject matter.\",\n",
       " 'clarity_feedback': \"The essay provides a clear and well-structured analysis of India's position in the age of AI, highlighting both the opportunities and challenges it faces. The use of examples and specific applications of AI in various sectors adds depth to the discussion. The language is concise and the arguments are logically presented, making it easy to follow the author's line of thought.\",\n",
       " 'overall_feedback': \"Summarized Feedback: The essay offers a comprehensive and insightful analysis of India's current standing in the era of AI, discussing opportunities and challenges in sectors like agriculture, healthcare, education, and governance. It addresses critical issues such as the digital divide, job displacement, and data privacy, emphasizing the need for a multi-stakeholder approach. The analysis is well-rounded, deep, and clear, presenting a balanced perspective on the topic.\",\n",
       " 'score': [9, 9, 8]}"
      ]
     },
     "execution_count": 114,
     "metadata": {},
     "output_type": "execute_result"
    }
   ],
   "source": [
    "data"
   ]
  }
 ],
 "metadata": {
  "kernelspec": {
   "display_name": "genai",
   "language": "python",
   "name": "python3"
  },
  "language_info": {
   "codemirror_mode": {
    "name": "ipython",
    "version": 3
   },
   "file_extension": ".py",
   "mimetype": "text/x-python",
   "name": "python",
   "nbconvert_exporter": "python",
   "pygments_lexer": "ipython3",
   "version": "3.13.5"
  }
 },
 "nbformat": 4,
 "nbformat_minor": 5
}
